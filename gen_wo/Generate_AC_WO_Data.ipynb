{
 "cells": [
  {
   "cell_type": "markdown",
   "metadata": {},
   "source": [
    "## Generate Asset Class WO Data"
   ]
  },
  {
   "cell_type": "code",
   "execution_count": 1,
   "metadata": {},
   "outputs": [],
   "source": [
    "asset_class = \"SIG/ATC/TRK\""
   ]
  },
  {
   "cell_type": "code",
   "execution_count": 2,
   "metadata": {},
   "outputs": [],
   "source": [
    "import random\n",
    "import datetime\n",
    "import pandas as pd\n",
    "from pandas import ExcelWriter\n",
    "\n",
    "# Config for generating work orders\n",
    "no_of_wo = 250\n",
    "no_of_assets = 5\n",
    "asset_instll_start_date = datetime.date(2012, 1, 1)\n",
    "asset_instll_end_date = datetime.date(2015, 12, 31)"
   ]
  },
  {
   "cell_type": "code",
   "execution_count": 3,
   "metadata": {},
   "outputs": [
    {
     "name": "stdout",
     "output_type": "stream",
     "text": [
      "Gen. Asset Ids: ['A_0', 'A_1', 'A_2', 'A_3', 'A_4']\n",
      "Gen. Asset Instll Dates {'A_0': datetime.date(2014, 3, 9), 'A_1': datetime.date(2015, 4, 25), 'A_2': datetime.date(2014, 10, 12), 'A_3': datetime.date(2015, 10, 23), 'A_4': datetime.date(2013, 11, 1)}\n"
     ]
    }
   ],
   "source": [
    "# Generate Asset Ids (along with some random installation date)\n",
    "\n",
    "def generate_asset_ids(no_of_asset_ids):\n",
    "    # Function to generate a list of asset ids\n",
    "    res = list(range(no_of_asset_ids))\n",
    "    res = ['A_'+str(item) for item in res]\n",
    "    return res\n",
    "\n",
    "\n",
    "def sample_random_date(start_date, end_date):\n",
    "    # Function to select a random date between given start and end date\n",
    "    time_between_dates = end_date - start_date\n",
    "    days_between_dates = time_between_dates.days\n",
    "    random_number_of_days = random.randrange(days_between_dates)\n",
    "    random_date = start_date + datetime.timedelta(days=random_number_of_days)\n",
    "    return random_date\n",
    "\n",
    "\n",
    "def generate_asset_instll_date(asset_id_list, asset_instll_start_date, asset_instll_end_date):\n",
    "    # Function to select a random install date for all given assets \n",
    "    res = {}\n",
    "    for asset_id in asset_id_list:\n",
    "        res[asset_id] = sample_random_date(asset_instll_start_date, asset_instll_end_date)\n",
    "    return res\n",
    "\n",
    "\n",
    "asset_id_list = generate_asset_ids(no_of_assets)\n",
    "print(\"Gen. Asset Ids:\", asset_id_list)\n",
    "\n",
    "asset_instll_date = generate_asset_instll_date(asset_id_list, asset_instll_start_date, asset_instll_end_date)\n",
    "print(\"Gen. Asset Instll Dates\", asset_instll_date)"
   ]
  },
  {
   "cell_type": "code",
   "execution_count": 4,
   "metadata": {},
   "outputs": [
    {
     "name": "stdout",
     "output_type": "stream",
     "text": [
      "Number of Work Orders: 250\n",
      "Sample Gen. Work Order Ids: ['WO_1657674993', 'WO_9103430005', 'WO_2608771298', 'WO_4705761774', 'WO_7227952696']\n"
     ]
    }
   ],
   "source": [
    "# Generate WO Ids\n",
    "\n",
    "def get_n_digit_range(n):\n",
    "    # Function to return a range of n digit numbers\n",
    "    range_start = 10**(n-1)\n",
    "    range_end = (10**n) - 1\n",
    "    return range(range_start, range_end) \n",
    "\n",
    "\n",
    "def generate_wo_ids(no_of_wo_ids, wo_id_len):\n",
    "    # Function to generate random unique work order ids\n",
    "    res = random.sample(get_n_digit_range(wo_id_len), no_of_wo_ids)\n",
    "    res = ['WO_'+str(wo_id) for wo_id in res]\n",
    "    return res\n",
    "\n",
    "\n",
    "wo_id_list = generate_wo_ids(no_of_wo, 10)\n",
    "\n",
    "print(\"Number of Work Orders:\", len(wo_id_list))\n",
    "print(\"Sample Gen. Work Order Ids:\", wo_id_list[:5])"
   ]
  },
  {
   "cell_type": "code",
   "execution_count": 5,
   "metadata": {},
   "outputs": [
    {
     "name": "stdout",
     "output_type": "stream",
     "text": [
      "Work Order DF Shape: (250, 3)\n",
      "WO Distribution:\n",
      "A_2    57\n",
      "A_4    54\n",
      "A_0    49\n",
      "A_3    45\n",
      "A_1    45\n",
      "Name: asset_num, dtype: int64\n"
     ]
    },
    {
     "data": {
      "text/html": [
       "<div>\n",
       "<style scoped>\n",
       "    .dataframe tbody tr th:only-of-type {\n",
       "        vertical-align: middle;\n",
       "    }\n",
       "\n",
       "    .dataframe tbody tr th {\n",
       "        vertical-align: top;\n",
       "    }\n",
       "\n",
       "    .dataframe thead th {\n",
       "        text-align: right;\n",
       "    }\n",
       "</style>\n",
       "<table border=\"1\" class=\"dataframe\">\n",
       "  <thead>\n",
       "    <tr style=\"text-align: right;\">\n",
       "      <th></th>\n",
       "      <th>wo_num</th>\n",
       "      <th>asset_num</th>\n",
       "      <th>asset_class</th>\n",
       "    </tr>\n",
       "  </thead>\n",
       "  <tbody>\n",
       "    <tr>\n",
       "      <th>0</th>\n",
       "      <td>WO_1657674993</td>\n",
       "      <td>A_0</td>\n",
       "      <td>SIG/ATC/TRK</td>\n",
       "    </tr>\n",
       "    <tr>\n",
       "      <th>1</th>\n",
       "      <td>WO_9103430005</td>\n",
       "      <td>A_0</td>\n",
       "      <td>SIG/ATC/TRK</td>\n",
       "    </tr>\n",
       "    <tr>\n",
       "      <th>2</th>\n",
       "      <td>WO_2608771298</td>\n",
       "      <td>A_2</td>\n",
       "      <td>SIG/ATC/TRK</td>\n",
       "    </tr>\n",
       "    <tr>\n",
       "      <th>3</th>\n",
       "      <td>WO_4705761774</td>\n",
       "      <td>A_3</td>\n",
       "      <td>SIG/ATC/TRK</td>\n",
       "    </tr>\n",
       "    <tr>\n",
       "      <th>4</th>\n",
       "      <td>WO_7227952696</td>\n",
       "      <td>A_1</td>\n",
       "      <td>SIG/ATC/TRK</td>\n",
       "    </tr>\n",
       "  </tbody>\n",
       "</table>\n",
       "</div>"
      ],
      "text/plain": [
       "          wo_num asset_num  asset_class\n",
       "0  WO_1657674993       A_0  SIG/ATC/TRK\n",
       "1  WO_9103430005       A_0  SIG/ATC/TRK\n",
       "2  WO_2608771298       A_2  SIG/ATC/TRK\n",
       "3  WO_4705761774       A_3  SIG/ATC/TRK\n",
       "4  WO_7227952696       A_1  SIG/ATC/TRK"
      ]
     },
     "execution_count": 5,
     "metadata": {},
     "output_type": "execute_result"
    }
   ],
   "source": [
    "# Assign asset details to work order\n",
    "\n",
    "def assign_asset_info_for_wo(wo_id_list, asset_id_list, asset_class = 'SIG/ATC/OBU'):\n",
    "    # Function to randomly add asset info to work orders\n",
    "    wo_asset_id_list = []\n",
    "    for wo_id in wo_id_list:\n",
    "        wo_asset_id_list.append(random.sample(asset_id_list, 1)[0])\n",
    "    res = pd.DataFrame(list(zip(wo_id_list, wo_asset_id_list)), columns = ['wo_num', 'asset_num'])\n",
    "    res['asset_class'] = asset_class\n",
    "    return res\n",
    "\n",
    "\n",
    "wo_df = assign_asset_info_for_wo(wo_id_list, asset_id_list, asset_class)\n",
    "\n",
    "print(\"Work Order DF Shape:\", wo_df.shape)\n",
    "print(\"WO Distribution:\")\n",
    "print(wo_df['asset_num'].value_counts())\n",
    "wo_df.head()"
   ]
  },
  {
   "cell_type": "code",
   "execution_count": 6,
   "metadata": {},
   "outputs": [
    {
     "name": "stdout",
     "output_type": "stream",
     "text": [
      "Work Order DF Shape: (250, 4)\n"
     ]
    },
    {
     "data": {
      "text/html": [
       "<div>\n",
       "<style scoped>\n",
       "    .dataframe tbody tr th:only-of-type {\n",
       "        vertical-align: middle;\n",
       "    }\n",
       "\n",
       "    .dataframe tbody tr th {\n",
       "        vertical-align: top;\n",
       "    }\n",
       "\n",
       "    .dataframe thead th {\n",
       "        text-align: right;\n",
       "    }\n",
       "</style>\n",
       "<table border=\"1\" class=\"dataframe\">\n",
       "  <thead>\n",
       "    <tr style=\"text-align: right;\">\n",
       "      <th></th>\n",
       "      <th>wo_num</th>\n",
       "      <th>asset_num</th>\n",
       "      <th>asset_class</th>\n",
       "      <th>wo_date</th>\n",
       "    </tr>\n",
       "  </thead>\n",
       "  <tbody>\n",
       "    <tr>\n",
       "      <th>0</th>\n",
       "      <td>WO_1657674993</td>\n",
       "      <td>A_0</td>\n",
       "      <td>SIG/ATC/TRK</td>\n",
       "      <td>2016-08-25</td>\n",
       "    </tr>\n",
       "    <tr>\n",
       "      <th>1</th>\n",
       "      <td>WO_9103430005</td>\n",
       "      <td>A_0</td>\n",
       "      <td>SIG/ATC/TRK</td>\n",
       "      <td>2021-12-24</td>\n",
       "    </tr>\n",
       "    <tr>\n",
       "      <th>2</th>\n",
       "      <td>WO_2608771298</td>\n",
       "      <td>A_2</td>\n",
       "      <td>SIG/ATC/TRK</td>\n",
       "      <td>2020-08-03</td>\n",
       "    </tr>\n",
       "    <tr>\n",
       "      <th>3</th>\n",
       "      <td>WO_4705761774</td>\n",
       "      <td>A_3</td>\n",
       "      <td>SIG/ATC/TRK</td>\n",
       "      <td>2021-06-17</td>\n",
       "    </tr>\n",
       "    <tr>\n",
       "      <th>4</th>\n",
       "      <td>WO_7227952696</td>\n",
       "      <td>A_1</td>\n",
       "      <td>SIG/ATC/TRK</td>\n",
       "      <td>2017-12-28</td>\n",
       "    </tr>\n",
       "  </tbody>\n",
       "</table>\n",
       "</div>"
      ],
      "text/plain": [
       "          wo_num asset_num  asset_class     wo_date\n",
       "0  WO_1657674993       A_0  SIG/ATC/TRK  2016-08-25\n",
       "1  WO_9103430005       A_0  SIG/ATC/TRK  2021-12-24\n",
       "2  WO_2608771298       A_2  SIG/ATC/TRK  2020-08-03\n",
       "3  WO_4705761774       A_3  SIG/ATC/TRK  2021-06-17\n",
       "4  WO_7227952696       A_1  SIG/ATC/TRK  2017-12-28"
      ]
     },
     "execution_count": 6,
     "metadata": {},
     "output_type": "execute_result"
    }
   ],
   "source": [
    "# Assign date to work order\n",
    "\n",
    "def assign_date_for_wo(wo_df, asset_instll_date):\n",
    "    # Function to randomly select a work order date between install date and current date\n",
    "    res = wo_df.copy()\n",
    "    wo_date_list = []\n",
    "    for _, row in wo_df.iterrows():\n",
    "        start_date = asset_instll_date[row['asset_num']]\n",
    "        end_date = datetime.date.today()\n",
    "        wo_date = sample_random_date(start_date, end_date)\n",
    "        wo_date_list.append(wo_date)\n",
    "    res['wo_date'] = wo_date_list\n",
    "    return res\n",
    "\n",
    "\n",
    "wo_df = assign_date_for_wo(wo_df, asset_instll_date)\n",
    "\n",
    "print(\"Work Order DF Shape:\", wo_df.shape)\n",
    "wo_df.head()"
   ]
  },
  {
   "cell_type": "code",
   "execution_count": 7,
   "metadata": {},
   "outputs": [],
   "source": [
    "# Save the generated work order data\n",
    "\n",
    "def save_xls(list_dfs, xls_path):\n",
    "    # Function to save a list of dataframes as sheets of an excel\n",
    "    with ExcelWriter(xls_path) as writer:\n",
    "        for n, df in enumerate(list_dfs):\n",
    "            df.to_excel(writer,'sheet%s' % n, index=False)\n",
    "    return None\n",
    "\n",
    "\n",
    "asset_instll_date_df = pd.DataFrame([(k,v) for k, v in asset_instll_date.items()], columns=['asset_num', 'instll_date'])\n",
    "asset_instll_date_df['asset_class'] = asset_class\n",
    "save_xls([asset_instll_date_df, wo_df], \"../dataset/dummy_wo-\"+asset_class.replace('/','_')+\".xlsx\")"
   ]
  },
  {
   "cell_type": "code",
   "execution_count": null,
   "metadata": {},
   "outputs": [],
   "source": []
  }
 ],
 "metadata": {
  "interpreter": {
   "hash": "e47213b7d2574a3e835b266c17f22ede02f1bf0b5924df2e001600d1bc8b5c01"
  },
  "kernelspec": {
   "display_name": "Python 3.10.2 ('reams_uj1')",
   "language": "python",
   "name": "python3"
  },
  "language_info": {
   "codemirror_mode": {
    "name": "ipython",
    "version": 3
   },
   "file_extension": ".py",
   "mimetype": "text/x-python",
   "name": "python",
   "nbconvert_exporter": "python",
   "pygments_lexer": "ipython3",
   "version": "3.10.2"
  },
  "orig_nbformat": 4
 },
 "nbformat": 4,
 "nbformat_minor": 2
}
